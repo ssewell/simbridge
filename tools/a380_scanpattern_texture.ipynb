{
 "cells": [
  {
   "cell_type": "code",
   "execution_count": 9,
   "id": "fe3fb05c",
   "metadata": {},
   "outputs": [],
   "source": [
    "import numpy as np\n",
    "import matplotlib.pyplot as plt\n",
    "\n",
    "# pattern metrices\n",
    "lowDensityValue = 3\n",
    "highDensityValue = 5\n",
    "waterValue = 7\n",
    "patchSize = 12\n",
    "\n",
    "# image metrices\n",
    "width = 768\n",
    "height = 592\n",
    "\n",
    "# root coordinate system\n",
    "rootX = width / 2\n",
    "rootY = height"
   ]
  },
  {
   "cell_type": "code",
   "execution_count": 10,
   "id": "fc090d12",
   "metadata": {},
   "outputs": [],
   "source": [
    "def fillPixel(x, y, value):\n",
    "    if mask[y][x] == 0:\n",
    "        mask[y][x] = value\n",
    "    else:\n",
    "        mask[y][x] *= value\n",
    "\n",
    "def lowDensityPixel(x, y):\n",
    "    patchX = x % 13\n",
    "    patchY = y % 13\n",
    "\n",
    "    if (patchY >= 5 and patchY <= 7) and (patchX <= 1 or patchX == 12):\n",
    "        fillPixel(x, y, lowDensityValue)\n",
    "    elif (patchX >= 5 and patchX <= 7) and (patchY <= 1 or patchY == 12):\n",
    "        fillPixel(x, y, lowDensityValue)\n",
    "\n",
    "def highDensityPattern(x, y):\n",
    "    patchX = x % 6\n",
    "    patchY = y % 6\n",
    "\n",
    "    if (patchY <= 1 or patchY == 5) and (patchX >= 2 and patchX <= 4):\n",
    "        fillPixel(x, y, highDensityValue)\n",
    "    elif (patchX <= 1 or patchX == 5) and (patchY >= 2 and patchY <= 4):\n",
    "        fillPixel(x, y, highDensityValue)\n",
    "\n",
    "def waterDensityPattern(x, y):\n",
    "    patchX = x % 9\n",
    "    patchY = y % 9\n",
    "\n",
    "    if (patchY <= 1 or patchY == 8) and (patchX >= 4 and patchX <= 6):\n",
    "        fillPixel(x, y, waterValue)\n",
    "    elif (patchX <= 1 or patchX == 8) and (patchY >= 4 and patchY <= 6):\n",
    "        fillPixel(x, y, waterValue)"
   ]
  },
  {
   "cell_type": "code",
   "execution_count": 11,
   "id": "d9c1645d",
   "metadata": {},
   "outputs": [],
   "source": [
    "mask = np.zeros([height,width])\n",
    "\n",
    "for y in range(mask.shape[0]):\n",
    "    for x in range(mask.shape[1]):\n",
    "        # fill low density pattern\n",
    "        lowDensityPixel(x, y)\n",
    "\n",
    "        # fill high density pattern\n",
    "        highDensityPattern(x, y)\n",
    "\n",
    "        # fill water pattern\n",
    "        waterDensityPattern(x, y)"
   ]
  },
  {
   "cell_type": "code",
   "execution_count": null,
   "id": "fa2836fb",
   "metadata": {
    "scrolled": false
   },
   "outputs": [],
   "source": [
    "print(mask)\n",
    "plt.imshow(mask * 150)"
   ]
  },
  {
   "cell_type": "code",
   "execution_count": 13,
   "id": "e57c6cc1",
   "metadata": {},
   "outputs": [],
   "source": [
    "def printValueRow(values):\n",
    "    string = '    '\n",
    "    for x in range(len(values)):\n",
    "        string += str(int(values[x])) + ', '\n",
    "        if len(string) >= 180:\n",
    "            file.write(string + '\\n')\n",
    "            string = '    '\n",
    "    if len(string) != 4:\n",
    "        file.write(string + '\\n')\n",
    "\n",
    "with open('output/patternmap.ts', 'w') as file:\n",
    "    file.write('export const createScanlineModePatternMap = () => new Uint8ClampedArray([\\n')\n",
    "    for y in range(mask.shape[0]):\n",
    "        file.write('    // row in ' + str(y + 1) + '\\n')\n",
    "        printValueRow(mask[y])\n",
    "\n",
    "    file.write(']);\\n');"
   ]
  },
  {
   "cell_type": "code",
   "execution_count": null,
   "id": "5411ff9b",
   "metadata": {},
   "outputs": [],
   "source": [
    "4 << 24 | 4 << 16 | 5 << 8 | 255"
   ]
  },
  {
   "cell_type": "code",
   "execution_count": null,
   "id": "35a2dac4",
   "metadata": {},
   "outputs": [],
   "source": [
    "255 << 24 | 5 << 16 | 4 << 8 | 4"
   ]
  },
  {
   "cell_type": "code",
   "execution_count": null,
   "id": "3772f8cb",
   "metadata": {},
   "outputs": [],
   "source": []
  }
 ],
 "metadata": {
  "kernelspec": {
   "display_name": "Python 3 (ipykernel)",
   "language": "python",
   "name": "python3"
  },
  "language_info": {
   "codemirror_mode": {
    "name": "ipython",
    "version": 3
   },
   "file_extension": ".py",
   "mimetype": "text/x-python",
   "name": "python",
   "nbconvert_exporter": "python",
   "pygments_lexer": "ipython3",
   "version": "3.12.6"
  }
 },
 "nbformat": 4,
 "nbformat_minor": 5
}
